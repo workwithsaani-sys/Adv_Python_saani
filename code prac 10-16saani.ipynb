{
 "cells": [
  {
   "cell_type": "code",
   "execution_count": null,
   "id": "eae4a06c-6245-4eae-8e0f-87af6f88629b",
   "metadata": {},
   "outputs": [],
   "source": [
    "# all practise work for strings"
   ]
  },
  {
   "cell_type": "code",
   "execution_count": 1,
   "id": "49e622a5-0ff1-44a6-ba2e-51e2dd153250",
   "metadata": {},
   "outputs": [
    {
     "data": {
      "text/plain": [
       "39"
      ]
     },
     "execution_count": 1,
     "metadata": {},
     "output_type": "execute_result"
    }
   ],
   "source": [
    " \n",
    "s = \"Python programming is fun and powerful!\"\n",
    "len(s)"
   ]
  },
  {
   "cell_type": "code",
   "execution_count": 7,
   "id": "6369569d-6478-4ea8-8a92-32d2c92ff8e3",
   "metadata": {},
   "outputs": [
    {
     "data": {
      "text/plain": [
       "2"
      ]
     },
     "execution_count": 7,
     "metadata": {},
     "output_type": "execute_result"
    }
   ],
   "source": [
    "s = \"Python programming is fun and powerful!\"\n",
    "s.count('m')"
   ]
  },
  {
   "cell_type": "code",
   "execution_count": 8,
   "id": "35dc4e3c-46a9-4cb2-8f2f-344017c9c4e3",
   "metadata": {},
   "outputs": [
    {
     "data": {
      "text/plain": [
       "'Python programming is fun and powerful!'"
      ]
     },
     "execution_count": 8,
     "metadata": {},
     "output_type": "execute_result"
    }
   ],
   "source": [
    "s = \"Python programming is fun and powerful!\"\n",
    "s.capitalize()"
   ]
  },
  {
   "cell_type": "code",
   "execution_count": 9,
   "id": "6d4f4a93-02f8-4443-b740-1baec0701207",
   "metadata": {},
   "outputs": [
    {
     "data": {
      "text/plain": [
       "'PYTHON PROGRAMMING IS FUN AND POWERFUL!'"
      ]
     },
     "execution_count": 9,
     "metadata": {},
     "output_type": "execute_result"
    }
   ],
   "source": [
    "s = \"Python programming is fun and powerful!\"\n",
    "s.upper()"
   ]
  },
  {
   "cell_type": "code",
   "execution_count": 10,
   "id": "962a56db-5c07-419d-8c73-0484f386dffe",
   "metadata": {},
   "outputs": [
    {
     "data": {
      "text/plain": [
       "'Python Programming Is Fun And Powerful!'"
      ]
     },
     "execution_count": 10,
     "metadata": {},
     "output_type": "execute_result"
    }
   ],
   "source": [
    "s = \"Python programming is fun and powerful!\"\n",
    "s.title()"
   ]
  },
  {
   "cell_type": "code",
   "execution_count": 11,
   "id": "34bdb371-2438-4093-b489-9a0ed8acbc8a",
   "metadata": {},
   "outputs": [
    {
     "data": {
      "text/plain": [
       "'python programming is fun and powerful!'"
      ]
     },
     "execution_count": 11,
     "metadata": {},
     "output_type": "execute_result"
    }
   ],
   "source": [
    "s = \"Python programming is fun and powerful!\"\n",
    "s.lower()"
   ]
  },
  {
   "cell_type": "code",
   "execution_count": 17,
   "id": "8c2c592b-fd0c-4495-b3e8-3ba6eaae7069",
   "metadata": {},
   "outputs": [
    {
     "data": {
      "text/plain": [
       "30"
      ]
     },
     "execution_count": 17,
     "metadata": {},
     "output_type": "execute_result"
    }
   ],
   "source": [
    "s = \"Python programming is fun and powerful!\"\n",
    "s.find('p') #7 bcz 1st p is capital,\n",
    "#with start value\n",
    "s.find(\"p\",10)#find results -1 if substring is not found "
   ]
  },
  {
   "cell_type": "code",
   "execution_count": 23,
   "id": "40c9c6c3-987c-48dd-9d9f-00bdadc8dc2d",
   "metadata": {},
   "outputs": [
    {
     "data": {
      "text/plain": [
       "14"
      ]
     },
     "execution_count": 23,
     "metadata": {},
     "output_type": "execute_result"
    }
   ],
   "source": [
    "s = \"Python programming is fun and powerful!\"\n",
    "s.index('m') #13\n",
    "s.index('m',14) #after comma value is to start from this index"
   ]
  },
  {
   "cell_type": "code",
   "execution_count": 36,
   "id": "6bf847b5-3fa1-4c9b-9fd2-2a10ba6e5e35",
   "metadata": {},
   "outputs": [
    {
     "data": {
      "text/plain": [
       "'java programming is fun and powerful!'"
      ]
     },
     "execution_count": 36,
     "metadata": {},
     "output_type": "execute_result"
    }
   ],
   "source": [
    "s = \"Python programming is fun and powerful!\"\n",
    "s.replace('Python','java')"
   ]
  },
  {
   "cell_type": "code",
   "execution_count": 25,
   "id": "b04bc953-21a6-493a-bf0a-95ff74582b1e",
   "metadata": {},
   "outputs": [
    {
     "data": {
      "text/plain": [
       "['Python', 'programming', 'is', 'fun', 'and', 'powerful!']"
      ]
     },
     "execution_count": 25,
     "metadata": {},
     "output_type": "execute_result"
    }
   ],
   "source": [
    "s = \"Python programming is fun and powerful!\"\n",
    "s.split(' ')"
   ]
  },
  {
   "cell_type": "code",
   "execution_count": 32,
   "id": "7e48dc85-307e-48ae-837e-24bfedadc915",
   "metadata": {},
   "outputs": [
    {
     "data": {
      "text/plain": [
       "'Python programming is fun and powerful!'"
      ]
     },
     "execution_count": 32,
     "metadata": {},
     "output_type": "execute_result"
    }
   ],
   "source": [
    "s=['Python', 'programming', 'is', 'fun', 'and', 'powerful!']\n",
    "' '.join(s)"
   ]
  },
  {
   "cell_type": "code",
   "execution_count": null,
   "id": "ad86b576-81b2-4902-bf06-7584399326e8",
   "metadata": {},
   "outputs": [],
   "source": [
    "##practise work for lists"
   ]
  },
  {
   "cell_type": "code",
   "execution_count": 41,
   "id": "93a9db38-ffeb-439b-b2f1-8d8fabd8ea88",
   "metadata": {},
   "outputs": [
    {
     "data": {
      "text/plain": [
       "9"
      ]
     },
     "execution_count": 41,
     "metadata": {},
     "output_type": "execute_result"
    }
   ],
   "source": [
    "\n",
    "s=[1,2,3,4,5,6,7,8,9]\n",
    "len(s)"
   ]
  },
  {
   "cell_type": "code",
   "execution_count": 43,
   "id": "05ec9753-a669-44e7-a2b5-0c1948c6cf67",
   "metadata": {},
   "outputs": [
    {
     "name": "stdout",
     "output_type": "stream",
     "text": [
      "[1, 2, 3, 4, 5, 6, 7, 8, 9, 0]\n"
     ]
    }
   ],
   "source": [
    "s=[1,2,3,4,5,6,7,8,9]\n",
    "s.append(0)\n",
    "print(s)"
   ]
  },
  {
   "cell_type": "code",
   "execution_count": 44,
   "id": "64e3e6fd-23a6-46e7-aee0-0b8977dd3434",
   "metadata": {},
   "outputs": [
    {
     "name": "stdout",
     "output_type": "stream",
     "text": [
      "[1, 2, 3, 4, 5, 6, 7, 8, 9, 10]\n"
     ]
    }
   ],
   "source": [
    "s=[1,2,3,4,5,6,7,8,9]\n",
    "s.insert(10,10)\n",
    "print(s)"
   ]
  },
  {
   "cell_type": "code",
   "execution_count": 46,
   "id": "993cc7e8-54ac-4c9d-b7db-bdf422da1d30",
   "metadata": {},
   "outputs": [
    {
     "data": {
      "text/plain": [
       "2"
      ]
     },
     "execution_count": 46,
     "metadata": {},
     "output_type": "execute_result"
    }
   ],
   "source": [
    "s=[1,2,3,4,5,6,7,8,9]\n",
    "s.insert(0,1) #[1,1,2,3,4,5,6,7,8,9]\n",
    "s.count(1)\n"
   ]
  },
  {
   "cell_type": "code",
   "execution_count": 48,
   "id": "fdc7f6de-76f0-4ee0-8df6-817f332e7c73",
   "metadata": {},
   "outputs": [
    {
     "name": "stdout",
     "output_type": "stream",
     "text": [
      "[1, 2, 3, 4, 5, 6, 7, 8, 9]\n"
     ]
    }
   ],
   "source": [
    "s=[1,1,2,3,4,5,6,7,8,9]\n",
    "s.remove(1)\n",
    "print(s)\n",
    "#removed the exact item that we argumented in ()"
   ]
  },
  {
   "cell_type": "code",
   "execution_count": 50,
   "id": "77ef8b73-815b-4e82-ad20-b99396d14365",
   "metadata": {},
   "outputs": [
    {
     "name": "stdout",
     "output_type": "stream",
     "text": [
      "[1, 1, 2, 4, 5, 6, 7, 8, 9]\n"
     ]
    }
   ],
   "source": [
    "s=[1,1,2,3,4,5,6,7,8,9]\n",
    "s.pop(3)\n",
    "print(s)\n",
    "#remove the value thats on the index we given in ()"
   ]
  },
  {
   "cell_type": "code",
   "execution_count": 54,
   "id": "6c7fdd70-2ed2-457e-97d8-21325e7c204a",
   "metadata": {},
   "outputs": [
    {
     "name": "stdout",
     "output_type": "stream",
     "text": [
      "[1, 2, 3, 4, 5, 6, 7, 8, 9]\n"
     ]
    }
   ],
   "source": [
    "s=[1,1,2,3,4,5,6,7,8,9]\n",
    "del s[0]\n",
    "print(s)"
   ]
  },
  {
   "cell_type": "code",
   "execution_count": 51,
   "id": "c15f6e4b-c949-473c-a44c-9450f3613b3b",
   "metadata": {},
   "outputs": [
    {
     "name": "stdout",
     "output_type": "stream",
     "text": [
      "[]\n"
     ]
    }
   ],
   "source": [
    "s=[1,1,2,3,4,5,6,7,8,9]\n",
    "s.clear()\n",
    "print(s)"
   ]
  },
  {
   "cell_type": "code",
   "execution_count": 56,
   "id": "be0cd233-f87b-4f88-bc54-a2169f5afa18",
   "metadata": {},
   "outputs": [
    {
     "name": "stdout",
     "output_type": "stream",
     "text": [
      "[1, 2, 3, 4, 4, 6, 8, 9]\n"
     ]
    }
   ],
   "source": [
    "s=[3,4,2,4,6,8,9,1]\n",
    "s.sort()\n",
    "print(s)"
   ]
  },
  {
   "cell_type": "code",
   "execution_count": 59,
   "id": "2ded7765-37cb-4932-aab1-709882e1a78e",
   "metadata": {},
   "outputs": [
    {
     "name": "stdout",
     "output_type": "stream",
     "text": [
      "[9, 8, 7, 6, 5, 4, 3, 2, 1]\n"
     ]
    }
   ],
   "source": [
    "s=s=[1,2,3,4,5,6,7,8,9]\n",
    "s.reverse()\n",
    "print(s)"
   ]
  },
  {
   "cell_type": "code",
   "execution_count": 60,
   "id": "1053790d-1194-4e80-9304-553aae1cd542",
   "metadata": {},
   "outputs": [
    {
     "data": {
      "text/plain": [
       "[1, 2, 3, 4, 5, 6]"
      ]
     },
     "execution_count": 60,
     "metadata": {},
     "output_type": "execute_result"
    }
   ],
   "source": [
    "s=[1,2,3,4,5,6,7,8,9]\n",
    "s[0:6]\n",
    "#slicing"
   ]
  },
  {
   "cell_type": "code",
   "execution_count": 61,
   "id": "1f3044dc-8775-4ed7-ad2c-19ff13d2dd2d",
   "metadata": {},
   "outputs": [
    {
     "data": {
      "text/plain": [
       "6"
      ]
     },
     "execution_count": 61,
     "metadata": {},
     "output_type": "execute_result"
    }
   ],
   "source": [
    "s=[1,2,3,4,5,6,7,8,9]\n",
    "s.index(7)"
   ]
  },
  {
   "cell_type": "code",
   "execution_count": 66,
   "id": "84b0ae36-23e6-46dc-82f1-9a56300a0bc0",
   "metadata": {},
   "outputs": [
    {
     "ename": "TypeError",
     "evalue": "sequence item 0: expected str instance, int found",
     "output_type": "error",
     "traceback": [
      "\u001b[1;31m---------------------------------------------------------------------------\u001b[0m",
      "\u001b[1;31mTypeError\u001b[0m                                 Traceback (most recent call last)",
      "Cell \u001b[1;32mIn[66], line 2\u001b[0m\n\u001b[0;32m      1\u001b[0m s\u001b[38;5;241m=\u001b[39m[\u001b[38;5;241m1\u001b[39m,\u001b[38;5;241m2\u001b[39m,\u001b[38;5;241m3\u001b[39m,\u001b[38;5;241m4\u001b[39m,\u001b[38;5;241m5\u001b[39m,\u001b[38;5;241m6\u001b[39m,\u001b[38;5;241m7\u001b[39m,\u001b[38;5;241m8\u001b[39m,\u001b[38;5;241m9\u001b[39m]\n\u001b[1;32m----> 2\u001b[0m \u001b[38;5;124m'\u001b[39m\u001b[38;5;124m1\u001b[39m\u001b[38;5;124m'\u001b[39m\u001b[38;5;241m.\u001b[39mjoin(s)\n",
      "\u001b[1;31mTypeError\u001b[0m: sequence item 0: expected str instance, int found"
     ]
    }
   ],
   "source": [
    "s=[1,2,3,4,5,6,7,8,9]\n",
    "'1'.join(s)"
   ]
  },
  {
   "cell_type": "code",
   "execution_count": null,
   "id": "f8e4f33a-0622-4972-91db-430a88671124",
   "metadata": {},
   "outputs": [],
   "source": []
  }
 ],
 "metadata": {
  "kernelspec": {
   "display_name": "Python 3 (ipykernel)",
   "language": "python",
   "name": "python3"
  },
  "language_info": {
   "codemirror_mode": {
    "name": "ipython",
    "version": 3
   },
   "file_extension": ".py",
   "mimetype": "text/x-python",
   "name": "python",
   "nbconvert_exporter": "python",
   "pygments_lexer": "ipython3",
   "version": "3.12.7"
  }
 },
 "nbformat": 4,
 "nbformat_minor": 5
}
