{
 "cells": [
  {
   "cell_type": "markdown",
   "id": "5c8c8e09-8d69-4a03-96fa-568541d9a93e",
   "metadata": {},
   "source": [
    "# ternary operator"
   ]
  },
  {
   "cell_type": "code",
   "execution_count": 5,
   "id": "97df8a62-cd11-46ba-8d70-ddfd5f09f3d6",
   "metadata": {},
   "outputs": [
    {
     "name": "stdout",
     "output_type": "stream",
     "text": [
      "unavailble\n"
     ]
    }
   ],
   "source": [
    "available_fruits= ['apple','banana','orange']\n",
    "print(f\"take it: {available_fruits[0]}\") if available_fruits[0]=='orange' else print(\"unavailble\")"
   ]
  },
  {
   "cell_type": "code",
   "execution_count": 19,
   "id": "a4014a99-bd63-4694-8bc4-6c11565c6f1d",
   "metadata": {},
   "outputs": [
    {
     "name": "stdout",
     "output_type": "stream",
     "text": [
      "no it does not\n"
     ]
    }
   ],
   "source": [
    "def five_divider(num):\n",
    "    return \"yes its divides\" if num/5 ==(1 or 2 or 3 or 4 or 5) else \"no it does not\"\n",
    "print(five_divider(16))"
   ]
  },
  {
   "cell_type": "code",
   "execution_count": 22,
   "id": "cd41ccbd-7d70-46dd-b814-2be814b7c524",
   "metadata": {},
   "outputs": [
    {
     "name": "stdout",
     "output_type": "stream",
     "text": [
      "no it does not\n"
     ]
    }
   ],
   "source": [
    "def five_divider(num):\n",
    "    return \"yes its divides\" if num / 5 in (1, 2, 3, 4, 5) else \"no it does not\"\n",
    "print(five_divider(35))"
   ]
  },
  {
   "cell_type": "markdown",
   "id": "30895149-c188-4118-8322-f207e8b681fd",
   "metadata": {},
   "source": [
    "# nested ternary"
   ]
  },
  {
   "cell_type": "code",
   "execution_count": 29,
   "id": "cd3d8de7-2db6-4235-88b6-23866ec2f7a8",
   "metadata": {},
   "outputs": [
    {
     "name": "stdin",
     "output_type": "stream",
     "text": [
      " 39\n"
     ]
    },
    {
     "name": "stdout",
     "output_type": "stream",
     "text": [
      "time to charge\n"
     ]
    }
   ],
   "source": [
    "def battery_health():\n",
    "    value=int(input())\n",
    "    return (\n",
    "        \"high\" if value>=90 else\n",
    "        \"moderate\" if value >=70 else\n",
    "        \"low\" if value >= 40 else\n",
    "         \"time to charge\" )\n",
    "print(battery_health())"
   ]
  },
  {
   "cell_type": "markdown",
   "id": "8ea17e4f-6d5a-40f9-b2ad-b865ddc9322f",
   "metadata": {},
   "source": [
    "# string methods "
   ]
  },
  {
   "cell_type": "code",
   "execution_count": 30,
   "id": "76b64064-f0df-41f1-8807-f3e25b78fb7d",
   "metadata": {},
   "outputs": [
    {
     "data": {
      "text/plain": [
       "True"
      ]
     },
     "execution_count": 30,
     "metadata": {},
     "output_type": "execute_result"
    }
   ],
   "source": [
    "username=\"sdjkfabdga\"\n",
    "username.islower()"
   ]
  },
  {
   "cell_type": "code",
   "execution_count": 31,
   "id": "dfeb4391-9799-402a-b4d5-24ff01f273a6",
   "metadata": {},
   "outputs": [
    {
     "data": {
      "text/plain": [
       "'SDJKFABDGA'"
      ]
     },
     "execution_count": 31,
     "metadata": {},
     "output_type": "execute_result"
    }
   ],
   "source": [
    "username=\"sdjkfabdga\"\n",
    "username.upper()"
   ]
  },
  {
   "cell_type": "code",
   "execution_count": 32,
   "id": "fffd9be8-42b1-4b3b-b1d8-c5d61a06429d",
   "metadata": {},
   "outputs": [
    {
     "data": {
      "text/plain": [
       "True"
      ]
     },
     "execution_count": 32,
     "metadata": {},
     "output_type": "execute_result"
    }
   ],
   "source": [
    "username=\"SDJKFABDGA\"\n",
    "username.isupper()"
   ]
  },
  {
   "cell_type": "code",
   "execution_count": 2,
   "id": "a8c2ab58-ae2f-4e03-9d5c-3fa34c9da9d0",
   "metadata": {},
   "outputs": [
    {
     "ename": "NameError",
     "evalue": "name 'username' is not defined",
     "output_type": "error",
     "traceback": [
      "\u001b[1;31m---------------------------------------------------------------------------\u001b[0m",
      "\u001b[1;31mNameError\u001b[0m                                 Traceback (most recent call last)",
      "Cell \u001b[1;32mIn[2], line 2\u001b[0m\n\u001b[0;32m      1\u001b[0m username:\u001b[38;5;124m\"\u001b[39m\u001b[38;5;124mdfgchvjj\u001b[39m\u001b[38;5;124m\"\u001b[39m\n\u001b[1;32m----> 2\u001b[0m capital\u001b[38;5;241m=\u001b[39musername\u001b[38;5;241m.\u001b[39mcapitalize()\n\u001b[0;32m      3\u001b[0m \u001b[38;5;28mprint\u001b[39m(capital)\n",
      "\u001b[1;31mNameError\u001b[0m: name 'username' is not defined"
     ]
    }
   ],
   "source": [
    "username:\"dfgchvjj\"\n",
    "capital=username.capitalize()\n",
    "print(capital)"
   ]
  },
  {
   "cell_type": "code",
   "execution_count": 35,
   "id": "eff5bce4-24fd-4653-9eef-f1d847c19e88",
   "metadata": {},
   "outputs": [
    {
     "data": {
      "text/plain": [
       "'Sdjkfabdga'"
      ]
     },
     "execution_count": 35,
     "metadata": {},
     "output_type": "execute_result"
    }
   ],
   "source": [
    "username=\"SDJKFABDGA\"\n",
    "username.title()"
   ]
  },
  {
   "cell_type": "code",
   "execution_count": null,
   "id": "213a9aa1-81ff-4921-857d-c589398ef6af",
   "metadata": {},
   "outputs": [],
   "source": []
  }
 ],
 "metadata": {
  "kernelspec": {
   "display_name": "Python 3 (ipykernel)",
   "language": "python",
   "name": "python3"
  },
  "language_info": {
   "codemirror_mode": {
    "name": "ipython",
    "version": 3
   },
   "file_extension": ".py",
   "mimetype": "text/x-python",
   "name": "python",
   "nbconvert_exporter": "python",
   "pygments_lexer": "ipython3",
   "version": "3.12.7"
  }
 },
 "nbformat": 4,
 "nbformat_minor": 5
}
