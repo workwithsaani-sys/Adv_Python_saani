{
 "cells": [
  {
   "cell_type": "code",
   "execution_count": 1,
   "id": "4aa1a3df-162a-4109-aa37-10a9e90b3395",
   "metadata": {},
   "outputs": [
    {
     "name": "stdout",
     "output_type": "stream",
     "text": [
      "advance python\n"
     ]
    }
   ],
   "source": [
    "print(\"advance python\")"
   ]
  },
  {
   "cell_type": "code",
   "execution_count": null,
   "id": "03c4c040-f9d4-4362-8f5e-9fc2259b325f",
   "metadata": {},
   "outputs": [],
   "source": []
  }
 ],
 "metadata": {
  "kernelspec": {
   "display_name": "Python 3 (ipykernel)",
   "language": "python",
   "name": "python3"
  },
  "language_info": {
   "codemirror_mode": {
    "name": "ipython",
    "version": 3
   },
   "file_extension": ".py",
   "mimetype": "text/x-python",
   "name": "python",
   "nbconvert_exporter": "python",
   "pygments_lexer": "ipython3",
   "version": "3.12.7"
  }
 },
 "nbformat": 4,
 "nbformat_minor": 5
}
