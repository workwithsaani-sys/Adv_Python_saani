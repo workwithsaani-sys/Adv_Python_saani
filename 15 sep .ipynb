{
 "cells": [
  {
   "cell_type": "code",
   "execution_count": 1,
   "id": "649143ed-16ac-4dce-adbc-97ff5a9834a9",
   "metadata": {},
   "outputs": [
    {
     "data": {
      "text/plain": [
       "'Allama muhammd iqbal'"
      ]
     },
     "execution_count": 1,
     "metadata": {},
     "output_type": "execute_result"
    }
   ],
   "source": [
    "name = \"allama muhammd iqbal\"\n",
    "name.capitalize()"
   ]
  },
  {
   "cell_type": "code",
   "execution_count": 3,
   "id": "c7dd77a7-8a67-40e6-886c-67488be6c567",
   "metadata": {},
   "outputs": [
    {
     "data": {
      "text/plain": [
       "'ALLAMA MUHAMMD IQBAL'"
      ]
     },
     "execution_count": 3,
     "metadata": {},
     "output_type": "execute_result"
    }
   ],
   "source": [
    "name = \"allama muhammd iqbal\"\n",
    "name.upper()"
   ]
  },
  {
   "cell_type": "code",
   "execution_count": 4,
   "id": "d9cf51a3-c348-4b02-9407-a07771e5918a",
   "metadata": {},
   "outputs": [
    {
     "data": {
      "text/plain": [
       "'Allama Muhammd Iqbal'"
      ]
     },
     "execution_count": 4,
     "metadata": {},
     "output_type": "execute_result"
    }
   ],
   "source": [
    "name = \"allama muhammd iqbal\"\n",
    "name.title()"
   ]
  },
  {
   "cell_type": "code",
   "execution_count": 6,
   "id": "f1d7c89c-6dab-44ad-a595-3fb616aa8978",
   "metadata": {},
   "outputs": [
    {
     "data": {
      "text/plain": [
       "'allama muhammd iqbal'"
      ]
     },
     "execution_count": 6,
     "metadata": {},
     "output_type": "execute_result"
    }
   ],
   "source": [
    "name = \"AllamA muhammd iqbal\"\n",
    "name.lower()"
   ]
  },
  {
   "cell_type": "code",
   "execution_count": 7,
   "id": "dd5693e3-b964-439f-9980-80472c28a829",
   "metadata": {},
   "outputs": [
    {
     "data": {
      "text/plain": [
       "True"
      ]
     },
     "execution_count": 7,
     "metadata": {},
     "output_type": "execute_result"
    }
   ],
   "source": [
    "name = \"allama muhammd iqbal\"\n",
    "name.endswith(\"iqbal\")"
   ]
  },
  {
   "cell_type": "code",
   "execution_count": 12,
   "id": "dc416760-7a97-4f0b-8816-edd064519f76",
   "metadata": {},
   "outputs": [
    {
     "data": {
      "text/plain": [
       "['allama muhammd iqbal', ' he was well poet', 'a great writer']"
      ]
     },
     "execution_count": 12,
     "metadata": {},
     "output_type": "execute_result"
    }
   ],
   "source": [
    "name = \"allama muhammd iqbal, he was well poet,a great writer\"\n",
    "name.split(\",\")"
   ]
  },
  {
   "cell_type": "code",
   "execution_count": 14,
   "id": "692b9975-fd9d-4629-a96b-04abe19ded9f",
   "metadata": {},
   "outputs": [
    {
     "data": {
      "text/plain": [
       "5"
      ]
     },
     "execution_count": 14,
     "metadata": {},
     "output_type": "execute_result"
    }
   ],
   "source": [
    "name = \"allama muhammd iqbal\"\n",
    "name.count('a')"
   ]
  },
  {
   "cell_type": "code",
   "execution_count": 26,
   "id": "8fb2264e-1ebc-4bbf-8809-82517f9bbd7c",
   "metadata": {},
   "outputs": [
    {
     "data": {
      "text/plain": [
       "18"
      ]
     },
     "execution_count": 26,
     "metadata": {},
     "output_type": "execute_result"
    }
   ],
   "source": [
    "name = \"allama muhammd iqbal\"\n",
    "name.index('a',13)"
   ]
  },
  {
   "cell_type": "code",
   "execution_count": 29,
   "id": "acd1d542-fe8b-4d6e-8e9e-972e3bcf4314",
   "metadata": {},
   "outputs": [
    {
     "data": {
      "text/plain": [
       "11"
      ]
     },
     "execution_count": 29,
     "metadata": {},
     "output_type": "execute_result"
    }
   ],
   "source": [
    "name = \"allama muhammd iqbal\"\n",
    "name.find('m',8)"
   ]
  },
  {
   "cell_type": "code",
   "execution_count": null,
   "id": "451bc156-f84b-4dab-a4ee-bef0b82dded3",
   "metadata": {},
   "outputs": [],
   "source": []
  }
 ],
 "metadata": {
  "kernelspec": {
   "display_name": "Python 3 (ipykernel)",
   "language": "python",
   "name": "python3"
  },
  "language_info": {
   "codemirror_mode": {
    "name": "ipython",
    "version": 3
   },
   "file_extension": ".py",
   "mimetype": "text/x-python",
   "name": "python",
   "nbconvert_exporter": "python",
   "pygments_lexer": "ipython3",
   "version": "3.12.7"
  }
 },
 "nbformat": 4,
 "nbformat_minor": 5
}
