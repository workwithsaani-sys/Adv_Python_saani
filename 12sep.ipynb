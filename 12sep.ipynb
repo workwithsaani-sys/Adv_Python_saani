{
 "cells": [
  {
   "cell_type": "code",
   "execution_count": 19,
   "id": "82ebeea3-1b1c-46f0-99a4-941c069a40cb",
   "metadata": {},
   "outputs": [
    {
     "data": {
      "text/plain": [
       "int"
      ]
     },
     "execution_count": 19,
     "metadata": {},
     "output_type": "execute_result"
    }
   ],
   "source": [
    "age=\"12\"\n",
    "type(int(age))"
   ]
  },
  {
   "cell_type": "code",
   "execution_count": 22,
   "id": "4c0a15d0-5641-4d82-8afb-2b4ebb71bb08",
   "metadata": {},
   "outputs": [
    {
     "name": "stdout",
     "output_type": "stream",
     "text": [
      "add 43\n"
     ]
    }
   ],
   "source": [
    "num1=20\n",
    "num=23\n",
    "print(\"add\",(num1+num))"
   ]
  },
  {
   "cell_type": "code",
   "execution_count": 23,
   "id": "8bda254b-f29d-445f-a578-e77087257023",
   "metadata": {},
   "outputs": [
    {
     "name": "stdout",
     "output_type": "stream",
     "text": [
      "1\n"
     ]
    }
   ],
   "source": [
    "a,b,c=1,3,4\n",
    "print(a)"
   ]
  },
  {
   "cell_type": "code",
   "execution_count": 39,
   "id": "7ef352a8-2f94-4a17-bf49-d7e3e075e159",
   "metadata": {},
   "outputs": [
    {
     "name": "stdout",
     "output_type": "stream",
     "text": [
      "khan has aslkdh sadbsam 1\n"
     ]
    }
   ],
   "source": [
    "a=1\n",
    "name = f\"khan has aslkdh sadbsam {a}\"\n",
    "print(name)"
   ]
  },
  {
   "cell_type": "code",
   "execution_count": null,
   "id": "a28865b1-f754-4b25-b265-7654b1d06786",
   "metadata": {},
   "outputs": [],
   "source": []
  }
 ],
 "metadata": {
  "kernelspec": {
   "display_name": "Python 3 (ipykernel)",
   "language": "python",
   "name": "python3"
  },
  "language_info": {
   "codemirror_mode": {
    "name": "ipython",
    "version": 3
   },
   "file_extension": ".py",
   "mimetype": "text/x-python",
   "name": "python",
   "nbconvert_exporter": "python",
   "pygments_lexer": "ipython3",
   "version": "3.12.7"
  }
 },
 "nbformat": 4,
 "nbformat_minor": 5
}
